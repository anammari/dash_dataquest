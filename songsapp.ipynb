{
 "metadata": {
  "language_info": {
   "codemirror_mode": {
    "name": "ipython",
    "version": 3
   },
   "file_extension": ".py",
   "mimetype": "text/x-python",
   "name": "python",
   "nbconvert_exporter": "python",
   "pygments_lexer": "ipython3",
   "version": "3.7.6-final"
  },
  "orig_nbformat": 2,
  "kernelspec": {
   "name": "python_defaultSpec_1599141132709",
   "display_name": "Python 3.7.6 64-bit ('dash': conda)"
  }
 },
 "nbformat": 4,
 "nbformat_minor": 2,
 "cells": [
  {
   "cell_type": "code",
   "execution_count": 1,
   "metadata": {},
   "outputs": [],
   "source": [
    "import dash\n",
    "import dash_core_components as dcc\n",
    "import dash_html_components as html\n",
    "import dash_table_experiments as dt\n",
    "import pandas as pd\n",
    "import plotly.graph_objs as go\n",
    "from dash.dependencies import Input, Output, State, Event\n",
    "import random"
   ]
  },
  {
   "cell_type": "code",
   "execution_count": 2,
   "metadata": {},
   "outputs": [],
   "source": [
    "##############################################################\n",
    "        #DATA MANIPULATION (MODEL)\n",
    "##############################################################\n",
    "df= pd.read_csv(\"top500_albums_clean.csv\")\n",
    "df['userscore'] = df['userscore'].astype(float)\n",
    "df['metascore'] = df['metascore'].astype(float)\n",
    "df['releasedate']=pd.to_datetime(df['releasedate'], format='%b %d, %Y')\n",
    "df['year']=df[\"releasedate\"].dt.year\n",
    "df['decade']=(df[\"year\"]//10)*10\n",
    "#cleaning Genre\n",
    "df['genre'] = df['genre'].str.strip()\n",
    "df['genre'] = df['genre'].str.replace(\"/\", \",\")\n",
    "df['genre'] = df['genre'].str.split(\",\")\n",
    "#year trend\n",
    "df_linechart= df.groupby('year')        .agg({'album':'size', 'metascore':'mean', 'userscore':'mean'})        .sort_values(['year'], ascending=[True]).reset_index()\n",
    "df_linechart.userscore=df_linechart.userscore*10\n",
    "#table\n",
    "df_table= df.groupby('artist').agg({'album':'size', 'metascore':'sum', 'userscore':'sum'})\n",
    "#genrebubble\n",
    "df2=(df['genre'].apply(lambda x: pd.Series(x)) .stack().reset_index(level=1, drop=True).to_frame('genre').join(df[['year', 'decade', 'userscore', 'metascore']], how='left') )\n",
    "df_bubble=  df2.groupby('genre')        .agg({'year':'size', 'metascore':'mean', 'userscore':'mean'})             .sort_values(['year'], ascending=[False]).reset_index().head(15)\n",
    "df2_decade=df2.groupby(['genre', 'decade']).agg({'year':'size'}) .sort_values(['decade'], ascending=[False]).reset_index()"
   ]
  },
  {
   "cell_type": "code",
   "execution_count": 3,
   "metadata": {},
   "outputs": [
    {
     "output_type": "execute_result",
     "data": {
      "text/plain": "     year  album  metascore  userscore\n0  1999.0      3  87.000000  87.000000\n1  2000.0      9  87.888889  86.666667\n2  2001.0     24  87.250000  85.583333\n3  2002.0     12  87.083333  86.416667\n4  2003.0     30  86.666667  86.466667",
      "text/html": "<div>\n<style scoped>\n    .dataframe tbody tr th:only-of-type {\n        vertical-align: middle;\n    }\n\n    .dataframe tbody tr th {\n        vertical-align: top;\n    }\n\n    .dataframe thead th {\n        text-align: right;\n    }\n</style>\n<table border=\"1\" class=\"dataframe\">\n  <thead>\n    <tr style=\"text-align: right;\">\n      <th></th>\n      <th>year</th>\n      <th>album</th>\n      <th>metascore</th>\n      <th>userscore</th>\n    </tr>\n  </thead>\n  <tbody>\n    <tr>\n      <th>0</th>\n      <td>1999.0</td>\n      <td>3</td>\n      <td>87.000000</td>\n      <td>87.000000</td>\n    </tr>\n    <tr>\n      <th>1</th>\n      <td>2000.0</td>\n      <td>9</td>\n      <td>87.888889</td>\n      <td>86.666667</td>\n    </tr>\n    <tr>\n      <th>2</th>\n      <td>2001.0</td>\n      <td>24</td>\n      <td>87.250000</td>\n      <td>85.583333</td>\n    </tr>\n    <tr>\n      <th>3</th>\n      <td>2002.0</td>\n      <td>12</td>\n      <td>87.083333</td>\n      <td>86.416667</td>\n    </tr>\n    <tr>\n      <th>4</th>\n      <td>2003.0</td>\n      <td>30</td>\n      <td>86.666667</td>\n      <td>86.466667</td>\n    </tr>\n  </tbody>\n</table>\n</div>"
     },
     "metadata": {},
     "execution_count": 3
    }
   ],
   "source": [
    "df_linechart.head()"
   ]
  },
  {
   "cell_type": "code",
   "execution_count": 4,
   "metadata": {},
   "outputs": [
    {
     "output_type": "execute_result",
     "data": {
      "text/plain": "                                              album  metascore  userscore\nartist                                                                   \n...And You Will Know Us by the Trail of Dead      1       85.0        8.9\n24 Hour Party People                              1       86.0        8.5\n9th Wonder                                        1       87.0        7.0\nA Tribe Called Quest                              1       91.0        8.8\nAesop Rock                                        1       85.0        8.6",
      "text/html": "<div>\n<style scoped>\n    .dataframe tbody tr th:only-of-type {\n        vertical-align: middle;\n    }\n\n    .dataframe tbody tr th {\n        vertical-align: top;\n    }\n\n    .dataframe thead th {\n        text-align: right;\n    }\n</style>\n<table border=\"1\" class=\"dataframe\">\n  <thead>\n    <tr style=\"text-align: right;\">\n      <th></th>\n      <th>album</th>\n      <th>metascore</th>\n      <th>userscore</th>\n    </tr>\n    <tr>\n      <th>artist</th>\n      <th></th>\n      <th></th>\n      <th></th>\n    </tr>\n  </thead>\n  <tbody>\n    <tr>\n      <th>...And You Will Know Us by the Trail of Dead</th>\n      <td>1</td>\n      <td>85.0</td>\n      <td>8.9</td>\n    </tr>\n    <tr>\n      <th>24 Hour Party People</th>\n      <td>1</td>\n      <td>86.0</td>\n      <td>8.5</td>\n    </tr>\n    <tr>\n      <th>9th Wonder</th>\n      <td>1</td>\n      <td>87.0</td>\n      <td>7.0</td>\n    </tr>\n    <tr>\n      <th>A Tribe Called Quest</th>\n      <td>1</td>\n      <td>91.0</td>\n      <td>8.8</td>\n    </tr>\n    <tr>\n      <th>Aesop Rock</th>\n      <td>1</td>\n      <td>85.0</td>\n      <td>8.6</td>\n    </tr>\n  </tbody>\n</table>\n</div>"
     },
     "metadata": {},
     "execution_count": 4
    }
   ],
   "source": [
    "df_table.head()"
   ]
  },
  {
   "cell_type": "code",
   "execution_count": 5,
   "metadata": {},
   "outputs": [
    {
     "output_type": "execute_result",
     "data": {
      "text/plain": "         genre  year  metascore  userscore\n0         Rock   358  86.801676   8.303631\n1          Pop   207  87.009662   8.144928\n2  Alternative   125  86.776000   8.342400\n3   Indie Rock   113  86.707965   8.279646\n4        Indie    96  86.677083   8.560417",
      "text/html": "<div>\n<style scoped>\n    .dataframe tbody tr th:only-of-type {\n        vertical-align: middle;\n    }\n\n    .dataframe tbody tr th {\n        vertical-align: top;\n    }\n\n    .dataframe thead th {\n        text-align: right;\n    }\n</style>\n<table border=\"1\" class=\"dataframe\">\n  <thead>\n    <tr style=\"text-align: right;\">\n      <th></th>\n      <th>genre</th>\n      <th>year</th>\n      <th>metascore</th>\n      <th>userscore</th>\n    </tr>\n  </thead>\n  <tbody>\n    <tr>\n      <th>0</th>\n      <td>Rock</td>\n      <td>358</td>\n      <td>86.801676</td>\n      <td>8.303631</td>\n    </tr>\n    <tr>\n      <th>1</th>\n      <td>Pop</td>\n      <td>207</td>\n      <td>87.009662</td>\n      <td>8.144928</td>\n    </tr>\n    <tr>\n      <th>2</th>\n      <td>Alternative</td>\n      <td>125</td>\n      <td>86.776000</td>\n      <td>8.342400</td>\n    </tr>\n    <tr>\n      <th>3</th>\n      <td>Indie Rock</td>\n      <td>113</td>\n      <td>86.707965</td>\n      <td>8.279646</td>\n    </tr>\n    <tr>\n      <th>4</th>\n      <td>Indie</td>\n      <td>96</td>\n      <td>86.677083</td>\n      <td>8.560417</td>\n    </tr>\n  </tbody>\n</table>\n</div>"
     },
     "metadata": {},
     "execution_count": 5
    }
   ],
   "source": [
    "df_bubble.head()"
   ]
  },
  {
   "cell_type": "code",
   "execution_count": 6,
   "metadata": {},
   "outputs": [
    {
     "output_type": "execute_result",
     "data": {
      "text/plain": "         genre  decade  year\n0   Indie Folk  2010.0     9\n1    Math Rock  2010.0     1\n2    Metalcore  2010.0     1\n3   Microsound  2010.0     1\n4  Midwest Rap  2010.0     3",
      "text/html": "<div>\n<style scoped>\n    .dataframe tbody tr th:only-of-type {\n        vertical-align: middle;\n    }\n\n    .dataframe tbody tr th {\n        vertical-align: top;\n    }\n\n    .dataframe thead th {\n        text-align: right;\n    }\n</style>\n<table border=\"1\" class=\"dataframe\">\n  <thead>\n    <tr style=\"text-align: right;\">\n      <th></th>\n      <th>genre</th>\n      <th>decade</th>\n      <th>year</th>\n    </tr>\n  </thead>\n  <tbody>\n    <tr>\n      <th>0</th>\n      <td>Indie Folk</td>\n      <td>2010.0</td>\n      <td>9</td>\n    </tr>\n    <tr>\n      <th>1</th>\n      <td>Math Rock</td>\n      <td>2010.0</td>\n      <td>1</td>\n    </tr>\n    <tr>\n      <th>2</th>\n      <td>Metalcore</td>\n      <td>2010.0</td>\n      <td>1</td>\n    </tr>\n    <tr>\n      <th>3</th>\n      <td>Microsound</td>\n      <td>2010.0</td>\n      <td>1</td>\n    </tr>\n    <tr>\n      <th>4</th>\n      <td>Midwest Rap</td>\n      <td>2010.0</td>\n      <td>3</td>\n    </tr>\n  </tbody>\n</table>\n</div>"
     },
     "metadata": {},
     "execution_count": 6
    }
   ],
   "source": [
    "df2_decade.head()"
   ]
  },
  {
   "cell_type": "code",
   "execution_count": null,
   "metadata": {},
   "outputs": [],
   "source": []
  }
 ]
}