{
 "metadata": {
  "language_info": {
   "codemirror_mode": {
    "name": "ipython",
    "version": 3
   },
   "file_extension": ".py",
   "mimetype": "text/x-python",
   "name": "python",
   "nbconvert_exporter": "python",
   "pygments_lexer": "ipython3",
   "version": "3.7.6-final"
  },
  "orig_nbformat": 2,
  "kernelspec": {
   "name": "python37664bitdashconda2ee76fc6a004488b818d01c69756ae5d",
   "language": "python",
   "display_name": "Python 3.7.6 64-bit ('dash': conda)"
  }
 },
 "nbformat": 4,
 "nbformat_minor": 2,
 "cells": [
  {
   "cell_type": "code",
   "execution_count": 26,
   "metadata": {},
   "outputs": [],
   "source": [
    "import dash\n",
    "import dash_core_components as dcc\n",
    "import dash_html_components as html\n",
    "import dash_table_experiments as dt\n",
    "import pandas as pd\n",
    "import plotly.graph_objs as go\n",
    "from dash.dependencies import Input, Output, State\n",
    "import random\n",
    "from jupyter_dash import JupyterDash"
   ]
  },
  {
   "cell_type": "code",
   "execution_count": 27,
   "metadata": {},
   "outputs": [],
   "source": [
    "##############################################################\n",
    "        #DATA MANIPULATION (MODEL)\n",
    "##############################################################\n",
    "df= pd.read_csv(\"top500_albums_clean.csv\")\n",
    "df['userscore'] = df['userscore'].astype(float)\n",
    "df['metascore'] = df['metascore'].astype(float)\n",
    "df['releasedate']=pd.to_datetime(df['releasedate'], format='%b %d, %Y')\n",
    "df['year']=df[\"releasedate\"].dt.year\n",
    "df['decade']=(df[\"year\"]//10)*10\n",
    "#cleaning Genre\n",
    "df['genre'] = df['genre'].str.strip()\n",
    "df['genre'] = df['genre'].str.replace(\"/\", \",\")\n",
    "df['genre'] = df['genre'].str.split(\",\")\n",
    "#year trend\n",
    "df_linechart= df.groupby('year')        \\\n",
    "    .agg({'album':'size', 'metascore':'mean', 'userscore':'mean'})        \\\n",
    "    .sort_values(['year'], ascending=[True]).reset_index()\n",
    "df_linechart.userscore=df_linechart.userscore*10\n",
    "#table\n",
    "df_table= df.groupby('artist').agg({'album':'size', 'metascore':'sum', 'userscore':'sum'})\n",
    "#genrebubble\n",
    "df2=(df['genre'].apply(lambda x: pd.Series(x)) .stack().reset_index(level=1, drop=True).to_frame('genre').join(df[['year', 'decade', 'userscore', 'metascore']], how='left') )\n",
    "df_bubble=  df2.groupby('genre')        \\\n",
    "    .agg({'year':'size', 'metascore':'mean', 'userscore':'mean'})             \\\n",
    "    .sort_values(['year'], ascending=[False]).reset_index().head(15)\n",
    "df2_decade=df2.groupby(['genre', 'decade']).agg({'year':'size'}) .sort_values(['decade'], ascending=[False]).reset_index()"
   ]
  },
  {
   "cell_type": "code",
   "execution_count": 28,
   "outputs": [
    {
     "data": {
      "text/plain": "   Unnamed: 0                album            artist  \\\n0           0  Ten Freedom Summers  Wadada Leo Smith   \n1           1    No Cities to Love    Sleater-Kinney   \n\n                                              genre  metascore releasedate  \\\n0                                            [Jazz]       99.0  2012-05-22   \n1  [Pop, Rock, Alternative, Indie Rock, Indie Rock]       90.0  2015-01-20   \n\n   userscore    year  decade  \n0        5.2  2012.0  2010.0  \n1        8.1  2015.0  2010.0  ",
      "text/html": "<div>\n<style scoped>\n    .dataframe tbody tr th:only-of-type {\n        vertical-align: middle;\n    }\n\n    .dataframe tbody tr th {\n        vertical-align: top;\n    }\n\n    .dataframe thead th {\n        text-align: right;\n    }\n</style>\n<table border=\"1\" class=\"dataframe\">\n  <thead>\n    <tr style=\"text-align: right;\">\n      <th></th>\n      <th>Unnamed: 0</th>\n      <th>album</th>\n      <th>artist</th>\n      <th>genre</th>\n      <th>metascore</th>\n      <th>releasedate</th>\n      <th>userscore</th>\n      <th>year</th>\n      <th>decade</th>\n    </tr>\n  </thead>\n  <tbody>\n    <tr>\n      <th>0</th>\n      <td>0</td>\n      <td>Ten Freedom Summers</td>\n      <td>Wadada Leo Smith</td>\n      <td>[Jazz]</td>\n      <td>99.0</td>\n      <td>2012-05-22</td>\n      <td>5.2</td>\n      <td>2012.0</td>\n      <td>2010.0</td>\n    </tr>\n    <tr>\n      <th>1</th>\n      <td>1</td>\n      <td>No Cities to Love</td>\n      <td>Sleater-Kinney</td>\n      <td>[Pop, Rock, Alternative, Indie Rock, Indie Rock]</td>\n      <td>90.0</td>\n      <td>2015-01-20</td>\n      <td>8.1</td>\n      <td>2015.0</td>\n      <td>2010.0</td>\n    </tr>\n  </tbody>\n</table>\n</div>"
     },
     "execution_count": 28,
     "metadata": {},
     "output_type": "execute_result"
    }
   ],
   "source": [
    "df.head(2)"
   ],
   "metadata": {
    "collapsed": false,
    "pycharm": {
     "name": "#%%\n"
    }
   }
  },
  {
   "cell_type": "code",
   "execution_count": 29,
   "metadata": {},
   "outputs": [
    {
     "data": {
      "text/plain": "     year  album  metascore  userscore\n0  1999.0      3  87.000000  87.000000\n1  2000.0      9  87.888889  86.666667\n2  2001.0     24  87.250000  85.583333\n3  2002.0     12  87.083333  86.416667\n4  2003.0     30  86.666667  86.466667",
      "text/html": "<div>\n<style scoped>\n    .dataframe tbody tr th:only-of-type {\n        vertical-align: middle;\n    }\n\n    .dataframe tbody tr th {\n        vertical-align: top;\n    }\n\n    .dataframe thead th {\n        text-align: right;\n    }\n</style>\n<table border=\"1\" class=\"dataframe\">\n  <thead>\n    <tr style=\"text-align: right;\">\n      <th></th>\n      <th>year</th>\n      <th>album</th>\n      <th>metascore</th>\n      <th>userscore</th>\n    </tr>\n  </thead>\n  <tbody>\n    <tr>\n      <th>0</th>\n      <td>1999.0</td>\n      <td>3</td>\n      <td>87.000000</td>\n      <td>87.000000</td>\n    </tr>\n    <tr>\n      <th>1</th>\n      <td>2000.0</td>\n      <td>9</td>\n      <td>87.888889</td>\n      <td>86.666667</td>\n    </tr>\n    <tr>\n      <th>2</th>\n      <td>2001.0</td>\n      <td>24</td>\n      <td>87.250000</td>\n      <td>85.583333</td>\n    </tr>\n    <tr>\n      <th>3</th>\n      <td>2002.0</td>\n      <td>12</td>\n      <td>87.083333</td>\n      <td>86.416667</td>\n    </tr>\n    <tr>\n      <th>4</th>\n      <td>2003.0</td>\n      <td>30</td>\n      <td>86.666667</td>\n      <td>86.466667</td>\n    </tr>\n  </tbody>\n</table>\n</div>"
     },
     "execution_count": 29,
     "metadata": {},
     "output_type": "execute_result"
    }
   ],
   "source": [
    "df_linechart.head()"
   ]
  },
  {
   "cell_type": "code",
   "execution_count": 30,
   "metadata": {},
   "outputs": [
    {
     "data": {
      "text/plain": "                                              album  metascore  userscore\nartist                                                                   \n...And You Will Know Us by the Trail of Dead      1       85.0        8.9\n24 Hour Party People                              1       86.0        8.5\n9th Wonder                                        1       87.0        7.0\nA Tribe Called Quest                              1       91.0        8.8\nAesop Rock                                        1       85.0        8.6",
      "text/html": "<div>\n<style scoped>\n    .dataframe tbody tr th:only-of-type {\n        vertical-align: middle;\n    }\n\n    .dataframe tbody tr th {\n        vertical-align: top;\n    }\n\n    .dataframe thead th {\n        text-align: right;\n    }\n</style>\n<table border=\"1\" class=\"dataframe\">\n  <thead>\n    <tr style=\"text-align: right;\">\n      <th></th>\n      <th>album</th>\n      <th>metascore</th>\n      <th>userscore</th>\n    </tr>\n    <tr>\n      <th>artist</th>\n      <th></th>\n      <th></th>\n      <th></th>\n    </tr>\n  </thead>\n  <tbody>\n    <tr>\n      <th>...And You Will Know Us by the Trail of Dead</th>\n      <td>1</td>\n      <td>85.0</td>\n      <td>8.9</td>\n    </tr>\n    <tr>\n      <th>24 Hour Party People</th>\n      <td>1</td>\n      <td>86.0</td>\n      <td>8.5</td>\n    </tr>\n    <tr>\n      <th>9th Wonder</th>\n      <td>1</td>\n      <td>87.0</td>\n      <td>7.0</td>\n    </tr>\n    <tr>\n      <th>A Tribe Called Quest</th>\n      <td>1</td>\n      <td>91.0</td>\n      <td>8.8</td>\n    </tr>\n    <tr>\n      <th>Aesop Rock</th>\n      <td>1</td>\n      <td>85.0</td>\n      <td>8.6</td>\n    </tr>\n  </tbody>\n</table>\n</div>"
     },
     "execution_count": 30,
     "metadata": {},
     "output_type": "execute_result"
    }
   ],
   "source": [
    "df_table.head()"
   ]
  },
  {
   "cell_type": "code",
   "execution_count": 31,
   "metadata": {},
   "outputs": [
    {
     "data": {
      "text/plain": "         genre  year  metascore  userscore\n0         Rock   358  86.801676   8.303631\n1          Pop   207  87.009662   8.144928\n2  Alternative   125  86.776000   8.342400\n3   Indie Rock   113  86.707965   8.279646\n4        Indie    96  86.677083   8.560417",
      "text/html": "<div>\n<style scoped>\n    .dataframe tbody tr th:only-of-type {\n        vertical-align: middle;\n    }\n\n    .dataframe tbody tr th {\n        vertical-align: top;\n    }\n\n    .dataframe thead th {\n        text-align: right;\n    }\n</style>\n<table border=\"1\" class=\"dataframe\">\n  <thead>\n    <tr style=\"text-align: right;\">\n      <th></th>\n      <th>genre</th>\n      <th>year</th>\n      <th>metascore</th>\n      <th>userscore</th>\n    </tr>\n  </thead>\n  <tbody>\n    <tr>\n      <th>0</th>\n      <td>Rock</td>\n      <td>358</td>\n      <td>86.801676</td>\n      <td>8.303631</td>\n    </tr>\n    <tr>\n      <th>1</th>\n      <td>Pop</td>\n      <td>207</td>\n      <td>87.009662</td>\n      <td>8.144928</td>\n    </tr>\n    <tr>\n      <th>2</th>\n      <td>Alternative</td>\n      <td>125</td>\n      <td>86.776000</td>\n      <td>8.342400</td>\n    </tr>\n    <tr>\n      <th>3</th>\n      <td>Indie Rock</td>\n      <td>113</td>\n      <td>86.707965</td>\n      <td>8.279646</td>\n    </tr>\n    <tr>\n      <th>4</th>\n      <td>Indie</td>\n      <td>96</td>\n      <td>86.677083</td>\n      <td>8.560417</td>\n    </tr>\n  </tbody>\n</table>\n</div>"
     },
     "execution_count": 31,
     "metadata": {},
     "output_type": "execute_result"
    }
   ],
   "source": [
    "df_bubble.head()"
   ]
  },
  {
   "cell_type": "code",
   "execution_count": 32,
   "metadata": {},
   "outputs": [
    {
     "data": {
      "text/plain": "         genre  decade  year\n0   Indie Folk  2010.0     9\n1    Math Rock  2010.0     1\n2    Metalcore  2010.0     1\n3   Microsound  2010.0     1\n4  Midwest Rap  2010.0     3",
      "text/html": "<div>\n<style scoped>\n    .dataframe tbody tr th:only-of-type {\n        vertical-align: middle;\n    }\n\n    .dataframe tbody tr th {\n        vertical-align: top;\n    }\n\n    .dataframe thead th {\n        text-align: right;\n    }\n</style>\n<table border=\"1\" class=\"dataframe\">\n  <thead>\n    <tr style=\"text-align: right;\">\n      <th></th>\n      <th>genre</th>\n      <th>decade</th>\n      <th>year</th>\n    </tr>\n  </thead>\n  <tbody>\n    <tr>\n      <th>0</th>\n      <td>Indie Folk</td>\n      <td>2010.0</td>\n      <td>9</td>\n    </tr>\n    <tr>\n      <th>1</th>\n      <td>Math Rock</td>\n      <td>2010.0</td>\n      <td>1</td>\n    </tr>\n    <tr>\n      <th>2</th>\n      <td>Metalcore</td>\n      <td>2010.0</td>\n      <td>1</td>\n    </tr>\n    <tr>\n      <th>3</th>\n      <td>Microsound</td>\n      <td>2010.0</td>\n      <td>1</td>\n    </tr>\n    <tr>\n      <th>4</th>\n      <td>Midwest Rap</td>\n      <td>2010.0</td>\n      <td>3</td>\n    </tr>\n  </tbody>\n</table>\n</div>"
     },
     "execution_count": 32,
     "metadata": {},
     "output_type": "execute_result"
    }
   ],
   "source": [
    "df2_decade.head()"
   ]
  },
  {
   "cell_type": "code",
   "execution_count": 33,
   "metadata": {},
   "outputs": [],
   "source": [
    "#gererate table\n",
    "def generate_table(dataframe, max_rows=10):\n",
    "    '''Given dataframe, return template generated using Dash components\n",
    "    '''\n",
    "    return html.Table(\n",
    "        # Header\n",
    "        [html.Tr([html.Th(col) for col in dataframe.columns])] +\n",
    "\n",
    "        # Body\n",
    "        [html.Tr([\n",
    "            html.Td(dataframe.iloc[i][col]) for col in dataframe.columns\n",
    "        ]) for i in range(min(len(dataframe), max_rows))],\n",
    "        style={'width': '100%', 'display': 'inline-block', 'vertical-align': 'middle'}\n",
    "    )"
   ]
  },
  {
   "cell_type": "code",
   "execution_count": 34,
   "outputs": [],
   "source": [
    "# generate bar chart\n",
    "def bar(results):\n",
    "    gen = results[\"points\"][0][\"text\"]\n",
    "    figure = go.Figure(\n",
    "        data=[\n",
    "            go.Bar(x=df2_decade[df2_decade.genre == gen].decade, y=df2_decade[df2_decade.genre == gen].year)\n",
    "        ],\n",
    "        layout=go.Layout(\n",
    "            title=\"Decade populatrity of \" + gen\n",
    "        )\n",
    "    )\n",
    "    return figure"
   ],
   "metadata": {
    "collapsed": false,
    "pycharm": {
     "name": "#%%\n"
    }
   }
  },
  {
   "cell_type": "code",
   "execution_count": 35,
   "outputs": [
    {
     "ename": "AttributeError",
     "evalue": "type object 'JupyterDash' has no attribute 'css'",
     "output_type": "error",
     "traceback": [
      "\u001B[0;31m---------------------------------------------------------------------------\u001B[0m",
      "\u001B[0;31mAttributeError\u001B[0m                            Traceback (most recent call last)",
      "\u001B[0;32m<ipython-input-35-b22dda555b89>\u001B[0m in \u001B[0;36m<module>\u001B[0;34m\u001B[0m\n\u001B[1;32m      4\u001B[0m \u001B[0;34m\u001B[0m\u001B[0m\n\u001B[1;32m      5\u001B[0m \u001B[0;31m# Bootstrap CSS.\u001B[0m\u001B[0;34m\u001B[0m\u001B[0;34m\u001B[0m\u001B[0;34m\u001B[0m\u001B[0m\n\u001B[0;32m----> 6\u001B[0;31m app.css.append_css({\n\u001B[0m\u001B[1;32m      7\u001B[0m     \u001B[0;34m\"external_url\"\u001B[0m\u001B[0;34m:\u001B[0m \u001B[0;34m\"https://maxcdn.bootstrapcdn.com/bootstrap/4.0.0/css/bootstrap.min.css\"\u001B[0m\u001B[0;34m\u001B[0m\u001B[0;34m\u001B[0m\u001B[0m\n\u001B[1;32m      8\u001B[0m })\n",
      "\u001B[0;31mAttributeError\u001B[0m: type object 'JupyterDash' has no attribute 'css'"
     ]
    }
   ],
   "source": [
    "# Set up Dashboard and create layout\n",
    "#app = dash.Dash()\n",
    "app = JupyterDash\n",
    "\n",
    "# Bootstrap CSS.\n",
    "app.css.append_css({\n",
    "    \"external_url\": \"https://maxcdn.bootstrapcdn.com/bootstrap/4.0.0/css/bootstrap.min.css\"\n",
    "})\n",
    "# Bootstrap Javascript.\n",
    "app.scripts.append_script({\n",
    "    \"external_url\": \"https://code.jquery.com/jquery-3.2.1.slim.min.js\"\n",
    "})\n",
    "app.scripts.append_script({\n",
    "    \"external_url\": \"https://cdnjs.cloudflare.com/ajax/libs/popper.js/1.12.9/umd/popper.min.js\"\n",
    "})\n",
    "app.scripts.append_script({\n",
    "    \"external_url\": \"https://maxcdn.bootstrapcdn.com/bootstrap/4.0.0/js/bootstrap.min.js\"\n",
    "})"
   ],
   "metadata": {
    "collapsed": false,
    "pycharm": {
     "name": "#%%\n"
    }
   }
  },
  {
   "cell_type": "code",
   "execution_count": null,
   "outputs": [],
   "source": [
    "# define app layout\n",
    "app.layout = html.Div([\n",
    "    html.Div([\n",
    "        html.Div(\n",
    "            [\n",
    "                html.H1(\"Music Dashboard\", className=\"text-center\", id=\"heading\")\n",
    "            ], className=\"col-md-12\"\n",
    "        ),\n",
    "    ], className=\"row\"),\n",
    "\n",
    "    html.Div(\n",
    "        [  # dropdown and score\n",
    "            html.Div([\n",
    "                html.Div(\n",
    "                    [\n",
    "                        dcc.Dropdown(\n",
    "                            options=[\n",
    "                                {'label': 'userscore', 'value': 'userscore'},\n",
    "                                {'label': 'metascore', 'value': 'metascore'},\n",
    "                            ],\n",
    "                            id='score-dropdown'\n",
    "                        )\n",
    "                    ], className=\"col-md-12\"),\n",
    "                html.Div(\n",
    "                    html.Table(id='datatable', className=\"table col-md-12\")\n",
    "                ),\n",
    "            ], className=\"col-md-6\"),\n",
    "\n",
    "            html.Div(\n",
    "                [  # Line Chart\n",
    "                    dcc.Graph(id='line-graph',\n",
    "                              figure=go.Figure(\n",
    "                                  data=[\n",
    "                                      go.Scatter(\n",
    "                                          x=df_linechart.year,\n",
    "                                          y=df_linechart.userscore,\n",
    "                                          mode='lines',\n",
    "                                          name='user score'\n",
    "                                      ),\n",
    "                                      go.Scatter(\n",
    "                                          x=df_linechart.year,\n",
    "                                          y=df_linechart.metascore,\n",
    "                                          mode='lines',\n",
    "                                          name='meta score'\n",
    "                                      ),\n",
    "                                  ],\n",
    "                                  layout=go.Layout(title=\"Score trends\")\n",
    "                              )\n",
    "                              ),\n",
    "                ], className=\"col-md-6\"\n",
    "            ),\n",
    "        ], className=\"row\"),\n",
    "\n",
    "    html.Div(\n",
    "        [\n",
    "            html.Div(\n",
    "                [\n",
    "                    dcc.Graph(id='bubble-chart',\n",
    "                              figure=go.Figure(\n",
    "                                  data=[\n",
    "                                      go.Scatter(\n",
    "                                          x=df_bubble.userscore,\n",
    "                                          y=df_bubble.metascore,\n",
    "                                          mode='markers',\n",
    "                                          text=df_bubble.genre,\n",
    "\n",
    "                                          marker=dict(\n",
    "                                              color=random.sample(range(1, 200), 15),\n",
    "                                              size=df_bubble.year,\n",
    "                                              sizemode='area',\n",
    "                                              sizeref=2. * max(df_bubble.year) / (40. ** 2),\n",
    "                                              sizemin=4\n",
    "                                          )\n",
    "                                      )\n",
    "                                  ],\n",
    "                                  layout=go.Layout(title=\"Genre popularity\")\n",
    "                              )\n",
    "\n",
    "                              )\n",
    "                ], className=\"col-md-6\"\n",
    "            ),\n",
    "            html.Div(\n",
    "                [\n",
    "                    dcc.Graph(id='bar-chart',\n",
    "                              style={'margin-top': '20'})\n",
    "                ], className=\"col-md-6\"\n",
    "            ),\n",
    "\n",
    "        ], className=\"row\"),\n",
    "\n",
    "], className=\"container-fluid\")"
   ],
   "metadata": {
    "collapsed": false,
    "pycharm": {
     "name": "#%%\n"
    }
   }
  },
  {
   "cell_type": "code",
   "execution_count": null,
   "outputs": [],
   "source": [
    "##############################################################\n",
    "# DATA CONTROL (CONTROLLER)\n",
    "##############################################################\n",
    "@app.callback(\n",
    "    Output(component_id='datatable', component_property='children'),\n",
    "    [Input(component_id='score-dropdown', component_property='value')]\n",
    ")\n",
    "def update_table(input_value):\n",
    "    return generate_table(df_table.sort_values([input_value], ascending=[False]).reset_index())\n",
    "\n",
    "\n",
    "@app.callback(\n",
    "    Output(component_id='bar-chart', component_property='figure'),\n",
    "    [Input(component_id='bubble-chart', component_property='hoverData')]\n",
    ")\n",
    "def update_graph(hoverData):\n",
    "    return bar(hoverData)"
   ],
   "metadata": {
    "collapsed": false,
    "pycharm": {
     "name": "#%%\n"
    }
   }
  },
  {
   "cell_type": "code",
   "execution_count": null,
   "outputs": [],
   "source": [
    "# Run app and display result inline in the notebook\n",
    "app.run_server(mode='inline')"
   ],
   "metadata": {
    "collapsed": false,
    "pycharm": {
     "name": "#%%\n"
    }
   }
  }
 ]
}